{
 "cells": [
  {
   "cell_type": "markdown",
   "metadata": {},
   "source": [
    "# COGS 108 - Final Project"
   ]
  },
  {
   "cell_type": "markdown",
   "metadata": {},
   "source": [
    "## Important\n",
    "\n",
    "- ONE, and only one, member of your group should upload this notebook to TritonED. \n",
    "- Each member of the group will receive the same grade on this assignment. \n",
    "- Keep the file name the same: submit the file 'FinalProject.ipynb'.\n",
    "- Only upload the .ipynb file to TED, do not upload any associted data. Make sure that for cells in which you want graders to see output that these cells have been executed."
   ]
  },
  {
   "cell_type": "markdown",
   "metadata": {},
   "source": [
    "## Group Members: Fill in the Student IDs of each group member here\n",
    "\n",
    "Replace the lines below to list each persons full student ID, ucsd email and full name.\n",
    "\n",
    "- A12785571, ekfu@ucsd.edu, Edwin Fu\n",
    "- A12623303, jcloo@ucsd.edu, Joel Loo\n",
    "- A13589612, bfbarry@ucsd.edu, Brian Barry\n",
    "- A12690911, zes004@ucsd.edu, Sunny Sun\n",
    "- A13736482, roz021@ucsd.edu, Roy Zhang\n",
    "- A13014470, khh007@ucsd.edu, Kevin Huang\n"
   ]
  },
  {
   "cell_type": "markdown",
   "metadata": {},
   "source": [
    "## Introduction: Background\n",
    "\n",
    "From 2013-2018, the United States of America has gone through a period of time when there were over 260,000 reported occurrences of gun violence. With so many reported incidents within the span of only 5 years, there needs to be a way for citizens to find where all these incidents are occurring without having to sift through heaps of data. People should be aware of where areas of high gun violence incidents are occurring and how possible prevention can occur. We seek to find out whether or not gun violence incidents, household income level and rent level are correlated and if so, can there be a way to lower the gun violence rates in those areas such as certain counties or states. To operationalize this, we are using gun violence rates, household income levels and rent levels counts as our metrics since all three can be utilized for our research question of whether there is a correlation between rent, income and gun violence within an area of the United States.\n",
    "\n",
    "To start with our analysis, we will start by importing some Python library packages for analyzing and graphing our data:"
   ]
  },
  {
   "cell_type": "markdown",
   "metadata": {},
   "source": [
    "# Library imports"
   ]
  },
  {
   "cell_type": "code",
   "execution_count": 9,
   "metadata": {},
   "outputs": [
    {
     "ename": "ModuleNotFoundError",
     "evalue": "No module named 'plotly'",
     "output_type": "error",
     "traceback": [
      "\u001b[0;31m---------------------------------------------------------------------------\u001b[0m",
      "\u001b[0;31mModuleNotFoundError\u001b[0m                       Traceback (most recent call last)",
      "\u001b[0;32m<ipython-input-9-917ad82d0671>\u001b[0m in \u001b[0;36m<module>\u001b[0;34m\u001b[0m\n\u001b[1;32m      3\u001b[0m \u001b[0;32mimport\u001b[0m \u001b[0mmatplotlib\u001b[0m\u001b[0;34m.\u001b[0m\u001b[0mpyplot\u001b[0m \u001b[0;32mas\u001b[0m \u001b[0mplt\u001b[0m\u001b[0;34m\u001b[0m\u001b[0;34m\u001b[0m\u001b[0m\n\u001b[1;32m      4\u001b[0m \u001b[0;32mimport\u001b[0m \u001b[0mseaborn\u001b[0m \u001b[0;32mas\u001b[0m \u001b[0msns\u001b[0m\u001b[0;34m\u001b[0m\u001b[0;34m\u001b[0m\u001b[0m\n\u001b[0;32m----> 5\u001b[0;31m \u001b[0;32mimport\u001b[0m \u001b[0mplotly\u001b[0m\u001b[0;34m\u001b[0m\u001b[0;34m\u001b[0m\u001b[0m\n\u001b[0m\u001b[1;32m      6\u001b[0m \u001b[0;32mimport\u001b[0m \u001b[0mplotly\u001b[0m\u001b[0;34m.\u001b[0m\u001b[0mplotly\u001b[0m \u001b[0;32mas\u001b[0m \u001b[0mpy\u001b[0m\u001b[0;34m\u001b[0m\u001b[0;34m\u001b[0m\u001b[0m\n\u001b[1;32m      7\u001b[0m \u001b[0;32mimport\u001b[0m \u001b[0mplotly\u001b[0m\u001b[0;34m.\u001b[0m\u001b[0mfigure_factory\u001b[0m \u001b[0;32mas\u001b[0m \u001b[0mff\u001b[0m\u001b[0;34m\u001b[0m\u001b[0;34m\u001b[0m\u001b[0m\n",
      "\u001b[0;31mModuleNotFoundError\u001b[0m: No module named 'plotly'"
     ]
    }
   ],
   "source": [
    "import numpy as np\n",
    "import pandas as pd\n",
    "import matplotlib.pyplot as plt\n",
    "import seaborn as sns\n",
    "import plotly\n",
    "import plotly.plotly as py\n",
    "import plotly.figure_factory as ff\n",
    "import plotly.graph_objs as go\n",
    "import patsy\n",
    "import statsmodels.api as sm\n",
    "import scipy.stats as stats\n",
    "from scipy.stats import ttest_ind, chisquare, normaltest\n",
    "\n",
    "plotly.tools.set_credentials_file(username='jcloo', api_key='6Qa08K4DBMMNjPHL2p0T')\n"
   ]
  },
  {
   "cell_type": "code",
   "execution_count": 10,
   "metadata": {},
   "outputs": [],
   "source": [
    "# Configure Seaborn library\n",
    "sns.set()\n",
    "sns.set_context('talk')"
   ]
  },
  {
   "cell_type": "code",
   "execution_count": 11,
   "metadata": {},
   "outputs": [],
   "source": [
    "#read datasets\n",
    "url = \"https://doc-0k-88-docs.googleusercontent.com/docs/securesc/a4oc2hqjnhqph43vaufe9fs3nelfc15u/n2em47vd7bqh0bu7a279knuoq26ugn8a/1552176000000/12632076152020903193/12632076152020903193/1KXzWFA-RIXwBXuOu81-E-MYi-e7WVfTj?e=download&nonce=1r1nehh1hfp4m&user=12632076152020903193&hash=uc1qcip4tede3ao389g85jg856941gf0\"\n",
    "gun_data = pd.read_csv(\"datasets/gun-violence-data_01-2013_03-2018.csv\")\n",
    "income_data = pd.read_csv(\"datasets/kaggle_income.csv\", encoding = \"ISO-8859-1\")\n",
    "rent_data = pd.read_csv(\"datasets/price.csv\", encoding = \"ISO-8859-1\")\n",
    "states = pd.read_csv(\"datasets/states.csv\")\n",
    "allcodes = pd.read_csv(\"datasets/fips-codes.csv\")\n",
    "\n",
    "city_metrics = pd.read_csv(\"datasets/updated_city_metrics.csv\")\n",
    "city_metrics_rent = pd.read_csv(\"datasets/updated_city_metrics_rent.csv\")\n",
    "county_data = pd.read_csv(\"datasets/county_incidents.csv\")\n",
    "\n"
   ]
  },
  {
   "cell_type": "code",
   "execution_count": 12,
   "metadata": {},
   "outputs": [
    {
     "ename": "KeyError",
     "evalue": "\"['state' 'city_or_county' 'n_killed' 'n_injured'] not in index\"",
     "output_type": "error",
     "traceback": [
      "\u001b[0;31m---------------------------------------------------------------------------\u001b[0m",
      "\u001b[0;31mKeyError\u001b[0m                                  Traceback (most recent call last)",
      "\u001b[0;32m<ipython-input-12-b2961ca0610e>\u001b[0m in \u001b[0;36m<module>\u001b[0;34m\u001b[0m\n\u001b[1;32m      2\u001b[0m \u001b[0;31m#gun_data.dropna(inplace = True)\u001b[0m\u001b[0;34m\u001b[0m\u001b[0;34m\u001b[0m\u001b[0;34m\u001b[0m\u001b[0m\n\u001b[1;32m      3\u001b[0m \u001b[0;31m#income_data.dropna(inplace = True)\u001b[0m\u001b[0;34m\u001b[0m\u001b[0;34m\u001b[0m\u001b[0;34m\u001b[0m\u001b[0m\n\u001b[0;32m----> 4\u001b[0;31m \u001b[0mgun_data_abbrev\u001b[0m \u001b[0;34m=\u001b[0m \u001b[0mgun_data\u001b[0m\u001b[0;34m[\u001b[0m\u001b[0;34m[\u001b[0m\u001b[0;34m'state'\u001b[0m\u001b[0;34m,\u001b[0m \u001b[0;34m'city_or_county'\u001b[0m\u001b[0;34m,\u001b[0m\u001b[0;34m'n_killed'\u001b[0m\u001b[0;34m,\u001b[0m \u001b[0;34m'n_injured'\u001b[0m\u001b[0;34m]\u001b[0m\u001b[0;34m]\u001b[0m\u001b[0;34m\u001b[0m\u001b[0;34m\u001b[0m\u001b[0m\n\u001b[0m",
      "\u001b[0;32m~/anaconda3/lib/python3.7/site-packages/pandas/core/frame.py\u001b[0m in \u001b[0;36m__getitem__\u001b[0;34m(self, key)\u001b[0m\n\u001b[1;32m   2680\u001b[0m         \u001b[0;32mif\u001b[0m \u001b[0misinstance\u001b[0m\u001b[0;34m(\u001b[0m\u001b[0mkey\u001b[0m\u001b[0;34m,\u001b[0m \u001b[0;34m(\u001b[0m\u001b[0mSeries\u001b[0m\u001b[0;34m,\u001b[0m \u001b[0mnp\u001b[0m\u001b[0;34m.\u001b[0m\u001b[0mndarray\u001b[0m\u001b[0;34m,\u001b[0m \u001b[0mIndex\u001b[0m\u001b[0;34m,\u001b[0m \u001b[0mlist\u001b[0m\u001b[0;34m)\u001b[0m\u001b[0;34m)\u001b[0m\u001b[0;34m:\u001b[0m\u001b[0;34m\u001b[0m\u001b[0;34m\u001b[0m\u001b[0m\n\u001b[1;32m   2681\u001b[0m             \u001b[0;31m# either boolean or fancy integer index\u001b[0m\u001b[0;34m\u001b[0m\u001b[0;34m\u001b[0m\u001b[0;34m\u001b[0m\u001b[0m\n\u001b[0;32m-> 2682\u001b[0;31m             \u001b[0;32mreturn\u001b[0m \u001b[0mself\u001b[0m\u001b[0;34m.\u001b[0m\u001b[0m_getitem_array\u001b[0m\u001b[0;34m(\u001b[0m\u001b[0mkey\u001b[0m\u001b[0;34m)\u001b[0m\u001b[0;34m\u001b[0m\u001b[0;34m\u001b[0m\u001b[0m\n\u001b[0m\u001b[1;32m   2683\u001b[0m         \u001b[0;32melif\u001b[0m \u001b[0misinstance\u001b[0m\u001b[0;34m(\u001b[0m\u001b[0mkey\u001b[0m\u001b[0;34m,\u001b[0m \u001b[0mDataFrame\u001b[0m\u001b[0;34m)\u001b[0m\u001b[0;34m:\u001b[0m\u001b[0;34m\u001b[0m\u001b[0;34m\u001b[0m\u001b[0m\n\u001b[1;32m   2684\u001b[0m             \u001b[0;32mreturn\u001b[0m \u001b[0mself\u001b[0m\u001b[0;34m.\u001b[0m\u001b[0m_getitem_frame\u001b[0m\u001b[0;34m(\u001b[0m\u001b[0mkey\u001b[0m\u001b[0;34m)\u001b[0m\u001b[0;34m\u001b[0m\u001b[0;34m\u001b[0m\u001b[0m\n",
      "\u001b[0;32m~/anaconda3/lib/python3.7/site-packages/pandas/core/frame.py\u001b[0m in \u001b[0;36m_getitem_array\u001b[0;34m(self, key)\u001b[0m\n\u001b[1;32m   2724\u001b[0m             \u001b[0;32mreturn\u001b[0m \u001b[0mself\u001b[0m\u001b[0;34m.\u001b[0m\u001b[0m_take\u001b[0m\u001b[0;34m(\u001b[0m\u001b[0mindexer\u001b[0m\u001b[0;34m,\u001b[0m \u001b[0maxis\u001b[0m\u001b[0;34m=\u001b[0m\u001b[0;36m0\u001b[0m\u001b[0;34m)\u001b[0m\u001b[0;34m\u001b[0m\u001b[0;34m\u001b[0m\u001b[0m\n\u001b[1;32m   2725\u001b[0m         \u001b[0;32melse\u001b[0m\u001b[0;34m:\u001b[0m\u001b[0;34m\u001b[0m\u001b[0;34m\u001b[0m\u001b[0m\n\u001b[0;32m-> 2726\u001b[0;31m             \u001b[0mindexer\u001b[0m \u001b[0;34m=\u001b[0m \u001b[0mself\u001b[0m\u001b[0;34m.\u001b[0m\u001b[0mloc\u001b[0m\u001b[0;34m.\u001b[0m\u001b[0m_convert_to_indexer\u001b[0m\u001b[0;34m(\u001b[0m\u001b[0mkey\u001b[0m\u001b[0;34m,\u001b[0m \u001b[0maxis\u001b[0m\u001b[0;34m=\u001b[0m\u001b[0;36m1\u001b[0m\u001b[0;34m)\u001b[0m\u001b[0;34m\u001b[0m\u001b[0;34m\u001b[0m\u001b[0m\n\u001b[0m\u001b[1;32m   2727\u001b[0m             \u001b[0;32mreturn\u001b[0m \u001b[0mself\u001b[0m\u001b[0;34m.\u001b[0m\u001b[0m_take\u001b[0m\u001b[0;34m(\u001b[0m\u001b[0mindexer\u001b[0m\u001b[0;34m,\u001b[0m \u001b[0maxis\u001b[0m\u001b[0;34m=\u001b[0m\u001b[0;36m1\u001b[0m\u001b[0;34m)\u001b[0m\u001b[0;34m\u001b[0m\u001b[0;34m\u001b[0m\u001b[0m\n\u001b[1;32m   2728\u001b[0m \u001b[0;34m\u001b[0m\u001b[0m\n",
      "\u001b[0;32m~/anaconda3/lib/python3.7/site-packages/pandas/core/indexing.py\u001b[0m in \u001b[0;36m_convert_to_indexer\u001b[0;34m(self, obj, axis, is_setter)\u001b[0m\n\u001b[1;32m   1325\u001b[0m                 \u001b[0;32mif\u001b[0m \u001b[0mmask\u001b[0m\u001b[0;34m.\u001b[0m\u001b[0many\u001b[0m\u001b[0;34m(\u001b[0m\u001b[0;34m)\u001b[0m\u001b[0;34m:\u001b[0m\u001b[0;34m\u001b[0m\u001b[0;34m\u001b[0m\u001b[0m\n\u001b[1;32m   1326\u001b[0m                     raise KeyError('{mask} not in index'\n\u001b[0;32m-> 1327\u001b[0;31m                                    .format(mask=objarr[mask]))\n\u001b[0m\u001b[1;32m   1328\u001b[0m \u001b[0;34m\u001b[0m\u001b[0m\n\u001b[1;32m   1329\u001b[0m                 \u001b[0;32mreturn\u001b[0m \u001b[0mcom\u001b[0m\u001b[0;34m.\u001b[0m\u001b[0m_values_from_object\u001b[0m\u001b[0;34m(\u001b[0m\u001b[0mindexer\u001b[0m\u001b[0;34m)\u001b[0m\u001b[0;34m\u001b[0m\u001b[0;34m\u001b[0m\u001b[0m\n",
      "\u001b[0;31mKeyError\u001b[0m: \"['state' 'city_or_county' 'n_killed' 'n_injured'] not in index\""
     ]
    }
   ],
   "source": [
    "#Remove null values\n",
    "#gun_data.dropna(inplace = True)\n",
    "#income_data.dropna(inplace = True)\n",
    "gun_data_abbrev = gun_data[['state', 'city_or_county','n_killed', 'n_injured']]"
   ]
  },
  {
   "cell_type": "markdown",
   "metadata": {},
   "source": [
    "## Data Description\n",
    "\n",
    "The datasets we are using are US State Population, Gun Violence, US Household Income. Details include state, county, state population, household income, its mean, its median, and its standard deviation, rent and state codes. We will be using these sets to find out if the frequency of gun violence has a direct correlation with household income with the effect of population density.\n",
    "These datasets can be obtained on:\n",
    "\n",
    "US State Population - https://www.kaggle.com/lucasvictor/us-state-populations-2018?fbclid=IwAR2QTVJfUDl20U0YXWy804-poFuxP1f5IDnJecWh0AMGgoJImjTS0DVNsos\n",
    "\n",
    "Gun Violence - \n",
    "https://www.kaggle.com/jameslko/gun-violence-data\n",
    "\n",
    "US Household Income -\n",
    "https://www.kaggle.com/goldenoakresearch/us-household-income-stats-geo-locations\n",
    "\n",
    "Rent\n",
    "https://drive.google.com/a/ucsd.edu/file/d/1xidDkm2-oNx-RnI8lJxkmVBAW9JQnDea/view?usp=sharing\n",
    "\n",
    "State Codes\n",
    "https://drive.google.com/a/ucsd.edu/file/d/1Yyx3rBuoxZB8ENjJDFxJdFZ0I4ya3m8x/view?usp=sharing"
   ]
  },
  {
   "cell_type": "markdown",
   "metadata": {},
   "source": [
    "# Data Cleaning/Pre-Processing\n",
    "We used numerous datasets therefore we used different data cleaning analysis strategy in different cells. We first cleaned each dataset then we tried to merge the datasets into one for it to be easier to manipulate later to analyze the data.\n",
    "\n",
    "# Data Visualization\n",
    "Data are shown in visualized format via scatter plots and bubble maps"
   ]
  },
  {
   "cell_type": "markdown",
   "metadata": {},
   "source": [
    "## Ethics/Privacy Considers\n",
    "All information in the data set are sources in which are allowed free public access and for open source use. The rest of this report is all work done by our team. This report is not for commercial purposes. So, after careful examination, we strongly believe that our data does not have any privacy concerns."
   ]
  },
  {
   "cell_type": "code",
   "execution_count": 3,
   "metadata": {},
   "outputs": [],
   "source": [
    "#gun_data[(gun_data[\"city_or_county\"]==\"Mckeesport\") & (gun_data[\"state\"]==\"Pennsylvania\")]"
   ]
  },
  {
   "cell_type": "markdown",
   "metadata": {},
   "source": [
    "## Clean/Merge Datasets By City"
   ]
  },
  {
   "cell_type": "code",
   "execution_count": 13,
   "metadata": {},
   "outputs": [],
   "source": [
    "#CLEANING UP COUNTY DATAFRAME \n",
    "allcodes.drop_duplicates(subset=['COUNTYNAME', 'STATE'], inplace=True)\n"
   ]
  },
  {
   "cell_type": "markdown",
   "metadata": {},
   "source": [
    "#### Below we match rows and merged by city in various datasets to organize our data. Then, we loop through the income data and agregated a datagram by city."
   ]
  },
  {
   "cell_type": "code",
   "execution_count": 36,
   "metadata": {},
   "outputs": [],
   "source": [
    "city_metrics = pd.DataFrame()\n",
    "count = 0\n",
    "\n",
    "for index, income_row in income_data.iterrows():\n",
    "    city = income_row['City']\n",
    "    state = income_row['State_Name']\n",
    "    code = income_row['State_ab']\n",
    "    county = income_row['County']\n",
    "    lat = income_row['Lat']\n",
    "    long = income_row['Lon']\n",
    "    \n",
    "    #print(city)\n",
    "    #print(state)\n",
    "    \n",
    "    #get dataframe of incident rows with matching state and city\n",
    "    incidents = gun_data_abbrev.loc[(gun_data['state']  == state) & (gun_data['city_or_county'] == city)]\n",
    "    #print(incidents)\n",
    "    #compute each city's total incidents and total deaths/ whatever metrics for violence we want to use\n",
    "    num_incidents = incidents.shape[0]\n",
    "    total_killed = incidents['n_killed'].sum()\n",
    "    total_injured = incidents['n_injured'].sum()\n",
    "\n",
    "    #extract income metrics for city\n",
    "    mean_inc = income_row['Mean']\n",
    "    median_inc = income_row['Median']\n",
    "    stdev_inc = income_row['Stdev']\n",
    "    \n",
    "    #construct row of the values we want to describe the city\n",
    "    city_row = pd.DataFrame(columns = ['state','city', 'county', 'code','mean_inc','median_inc','stdev_inc','num_incidents','total_killed','total_injured', 'lat', 'long'])\n",
    "    city_row.loc[0] = [state,city,county,code,mean_inc,median_inc,stdev_inc,num_incidents,total_killed,total_injured, lat, long]\n",
    "    #print(city_row)\n",
    "    \n",
    "    city_metrics = city_metrics.append(city_row)"
   ]
  },
  {
   "cell_type": "code",
   "execution_count": 37,
   "metadata": {},
   "outputs": [
    {
     "data": {
      "text/html": [
       "<div>\n",
       "<style scoped>\n",
       "    .dataframe tbody tr th:only-of-type {\n",
       "        vertical-align: middle;\n",
       "    }\n",
       "\n",
       "    .dataframe tbody tr th {\n",
       "        vertical-align: top;\n",
       "    }\n",
       "\n",
       "    .dataframe thead th {\n",
       "        text-align: right;\n",
       "    }\n",
       "</style>\n",
       "<table border=\"1\" class=\"dataframe\">\n",
       "  <thead>\n",
       "    <tr style=\"text-align: right;\">\n",
       "      <th></th>\n",
       "      <th>state</th>\n",
       "      <th>city</th>\n",
       "      <th>county</th>\n",
       "      <th>code</th>\n",
       "      <th>mean_inc</th>\n",
       "      <th>median_inc</th>\n",
       "      <th>stdev_inc</th>\n",
       "      <th>num_incidents</th>\n",
       "      <th>total_killed</th>\n",
       "      <th>total_injured</th>\n",
       "      <th>lat</th>\n",
       "      <th>long</th>\n",
       "    </tr>\n",
       "  </thead>\n",
       "  <tbody>\n",
       "    <tr>\n",
       "      <th>0</th>\n",
       "      <td>Alabama</td>\n",
       "      <td>Chickasaw</td>\n",
       "      <td>Mobile County</td>\n",
       "      <td>AL</td>\n",
       "      <td>38773</td>\n",
       "      <td>30506</td>\n",
       "      <td>33101</td>\n",
       "      <td>1</td>\n",
       "      <td>0</td>\n",
       "      <td>0</td>\n",
       "      <td>30.771450</td>\n",
       "      <td>-88.079697</td>\n",
       "    </tr>\n",
       "    <tr>\n",
       "      <th>0</th>\n",
       "      <td>Alabama</td>\n",
       "      <td>Louisville</td>\n",
       "      <td>Barbour County</td>\n",
       "      <td>AL</td>\n",
       "      <td>37725</td>\n",
       "      <td>19528</td>\n",
       "      <td>43789</td>\n",
       "      <td>2</td>\n",
       "      <td>0</td>\n",
       "      <td>3</td>\n",
       "      <td>31.708516</td>\n",
       "      <td>-85.611039</td>\n",
       "    </tr>\n",
       "    <tr>\n",
       "      <th>0</th>\n",
       "      <td>Alabama</td>\n",
       "      <td>Columbiana</td>\n",
       "      <td>Shelby County</td>\n",
       "      <td>AL</td>\n",
       "      <td>54606</td>\n",
       "      <td>31930</td>\n",
       "      <td>57348</td>\n",
       "      <td>4</td>\n",
       "      <td>0</td>\n",
       "      <td>5</td>\n",
       "      <td>33.191452</td>\n",
       "      <td>-86.615618</td>\n",
       "    </tr>\n",
       "    <tr>\n",
       "      <th>0</th>\n",
       "      <td>Alabama</td>\n",
       "      <td>Satsuma</td>\n",
       "      <td>Mobile County</td>\n",
       "      <td>AL</td>\n",
       "      <td>63919</td>\n",
       "      <td>52814</td>\n",
       "      <td>47707</td>\n",
       "      <td>0</td>\n",
       "      <td>0</td>\n",
       "      <td>0</td>\n",
       "      <td>30.874343</td>\n",
       "      <td>-88.009442</td>\n",
       "    </tr>\n",
       "    <tr>\n",
       "      <th>0</th>\n",
       "      <td>Alabama</td>\n",
       "      <td>Dauphin Island</td>\n",
       "      <td>Mobile County</td>\n",
       "      <td>AL</td>\n",
       "      <td>77948</td>\n",
       "      <td>67225</td>\n",
       "      <td>54270</td>\n",
       "      <td>0</td>\n",
       "      <td>0</td>\n",
       "      <td>0</td>\n",
       "      <td>30.250913</td>\n",
       "      <td>-88.171268</td>\n",
       "    </tr>\n",
       "  </tbody>\n",
       "</table>\n",
       "</div>"
      ],
      "text/plain": [
       "     state            city          county code mean_inc median_inc stdev_inc  \\\n",
       "0  Alabama       Chickasaw   Mobile County   AL    38773      30506     33101   \n",
       "0  Alabama      Louisville  Barbour County   AL    37725      19528     43789   \n",
       "0  Alabama      Columbiana   Shelby County   AL    54606      31930     57348   \n",
       "0  Alabama         Satsuma   Mobile County   AL    63919      52814     47707   \n",
       "0  Alabama  Dauphin Island   Mobile County   AL    77948      67225     54270   \n",
       "\n",
       "  num_incidents total_killed total_injured        lat       long  \n",
       "0             1            0             0  30.771450 -88.079697  \n",
       "0             2            0             3  31.708516 -85.611039  \n",
       "0             4            0             5  33.191452 -86.615618  \n",
       "0             0            0             0  30.874343 -88.009442  \n",
       "0             0            0             0  30.250913 -88.171268  "
      ]
     },
     "execution_count": 37,
     "metadata": {},
     "output_type": "execute_result"
    }
   ],
   "source": [
    "city_metrics.head()"
   ]
  },
  {
   "cell_type": "code",
   "execution_count": 50,
   "metadata": {},
   "outputs": [],
   "source": [
    "#subset rent data to take only large city (avoid duplicates)\n",
    "\n",
    "city_metrics_rent = pd.DataFrame()\n",
    "count = 0\n",
    "\n",
    "for index, rent_row in rent_data.iterrows():\n",
    "    city = rent_row['City']\n",
    "    state_abbrev = rent_row['State']\n",
    "    \n",
    "    #convert to full state name by comparing to states list\n",
    "    state = states.loc[states['Abbreviation'] == state_abbrev]['State'].values[0]\n",
    "    \n",
    "#    print(city)\n",
    "#    print(state)\n",
    "    \n",
    "    #get dataframe of incident rows with matching state and city\n",
    "    incidents = gun_data_abbrev.loc[(gun_data_abbrev['state']  == state) & (gun_data_abbrev['city_or_county'] == city)]\n",
    "    the_county = city_metrics.loc[(city_metrics['state'] == state) & (city_metrics['city'] == city)]\n",
    "    #print(the_county)\n",
    "    #compute each city's total incidents and total deaths/ whatever metrics for violence we want to use\n",
    "    num_incidents = incidents.shape[0]\n",
    "    total_killed = incidents['n_killed'].sum()\n",
    "    total_injured = incidents['n_injured'].sum()\n",
    "    \n",
    "\n",
    "\n",
    "    #extract rent metrics for city\n",
    "    latest_rent = rent_row['January 2017']\n",
    "    \n",
    "    #extract county for city\n",
    "    if the_county.empty != True:\n",
    "        #print(the_county)\n",
    "        county_list = the_county.at[0,'county']\n",
    "        #print(the_county)\n",
    "        #print(the_county.at[0, 'county'])\n",
    "        #print(the_county.at[0, 'county'])\n",
    "        #print(\"length of most counties is \", len(county_list))\n",
    "        #print(\"most of the counties are \", county_list)\n",
    "        if type(county_list) == str:\n",
    "            county = county_list\n",
    "        else:\n",
    "            county = county_list[0]\n",
    "        #if len(county) == 1:\n",
    "            #print(type(county_list))\n",
    "            #print(\"size of list is \", len(county_list))\n",
    "            #print(\"county list is \", county_list)\n",
    "            #print(county)\n",
    "\n",
    "    #construct row of the values we want to describe the city\n",
    "    city_row = pd.DataFrame(columns = ['state','code','city', 'county','latest_rent','num_incidents','total_killed','total_injured'])\n",
    "    city_row.loc[0] = [state, state_abbrev,city,county,latest_rent,num_incidents,total_killed,total_injured]\n",
    "    city_metrics_rent = city_metrics_rent.append(city_row)"
   ]
  },
  {
   "cell_type": "code",
   "execution_count": 89,
   "metadata": {},
   "outputs": [],
   "source": [
    "#city_metrics_rent.head()\n",
    "#city_metrics_rent.to_csv('updated_city_metrics_rent.csv', index = None, header=True)"
   ]
  },
  {
   "cell_type": "code",
   "execution_count": 86,
   "metadata": {},
   "outputs": [],
   "source": [
    "\n",
    "county_data = pd.DataFrame()\n",
    "\n",
    "#county_fips['state code'] = county_fips['state code'].apply(lambda x: str(x).zfill(2))\n",
    "#county_fips['county code'] = county_fips['county code'].apply(lambda x: str(x).zfill(3))\n",
    "#county_fips['FIPS'] = county_fips['state code'] + county_fips['county code']\n",
    "\n",
    "\n",
    "\n",
    "\n",
    "for index, FIPS_row in allcodes.iterrows():\n",
    "    county = FIPS_row['COUNTYNAME']\n",
    "    code = FIPS_row['STCOUNTYFP']\n",
    "    state = FIPS_row['STATE']\n",
    "    \n",
    "    all_counties = city_metrics_rent.loc[(city_metrics_rent['county'] == county) & (city_metrics_rent['code'] == state)]\n",
    "    #print(all_counties)\n",
    "    num_incidents = all_counties['num_incidents'].sum()\n",
    "    \n",
    "    to_add = pd.DataFrame(columns = ['county', 'state', 'fips', 'num_incidents'])\n",
    "    to_add.loc[0] = [county, state, code, num_incidents]\n",
    "    county_data = county_data.append(to_add)\n",
    "    \n",
    "\n",
    "    "
   ]
  },
  {
   "cell_type": "code",
   "execution_count": 88,
   "metadata": {},
   "outputs": [],
   "source": [
    "\n",
    "#county_data.to_csv('county_incidents.csv', index = None, header=True)"
   ]
  },
  {
   "cell_type": "markdown",
   "metadata": {},
   "source": [
    "## Data Visualization"
   ]
  },
  {
   "cell_type": "code",
   "execution_count": 31,
   "metadata": {},
   "outputs": [],
   "source": [
    "city_metrics['mean_inc'] = pd.to_numeric(city_metrics['mean_inc'])\n",
    "city_metrics['num_incidents'] = pd.to_numeric(city_metrics['num_incidents'])\n",
    "city_metrics_rent['latest_rent'] = pd.to_numeric(city_metrics_rent['latest_rent'])\n",
    "city_metrics_rent['num_incidents'] = pd.to_numeric(city_metrics_rent['num_incidents'])"
   ]
  },
  {
   "cell_type": "code",
   "execution_count": 32,
   "metadata": {},
   "outputs": [
    {
     "data": {
      "text/plain": [
       "state             object\n",
       "city              object\n",
       "county            object\n",
       "code              object\n",
       "mean_inc           int64\n",
       "median_inc         int64\n",
       "stdev_inc          int64\n",
       "num_incidents      int64\n",
       "total_killed       int64\n",
       "total_injured      int64\n",
       "lat              float64\n",
       "long             float64\n",
       "dtype: object"
      ]
     },
     "execution_count": 32,
     "metadata": {},
     "output_type": "execute_result"
    }
   ],
   "source": [
    "city_metrics.dtypes"
   ]
  },
  {
   "cell_type": "code",
   "execution_count": 33,
   "metadata": {},
   "outputs": [
    {
     "name": "stderr",
     "output_type": "stream",
     "text": [
      "'c' argument looks like a single numeric RGB or RGBA sequence, which should be avoided as value-mapping will have precedence in case its length matches with 'x' & 'y'.  Please use a 2-D array with a single row if you really want to specify the same RGB or RGBA value for all points.\n"
     ]
    },
    {
     "data": {
      "text/plain": [
       "<matplotlib.axes._subplots.AxesSubplot at 0x1e04de9e7b8>"
      ]
     },
     "execution_count": 33,
     "metadata": {},
     "output_type": "execute_result"
    },
    {
     "data": {
      "image/png": "[encoded data removed]",
      "text/plain": [
       "<Figure size 432x288 with 1 Axes>"
      ]
     },
     "metadata": {},
     "output_type": "display_data"
    }
   ],
   "source": [
    "city_metrics.plot.scatter(x = 'mean_inc', y = 'num_incidents')\n",
    "\n",
    "#inc_incidents_scat =  sns.lmplot(x =\"mean_inc\", y =\"num_incidents\", data =city_metrics, aspect = 1.5)"
   ]
  },
  {
   "cell_type": "code",
   "execution_count": 34,
   "metadata": {},
   "outputs": [
    {
     "name": "stderr",
     "output_type": "stream",
     "text": [
      "'c' argument looks like a single numeric RGB or RGBA sequence, which should be avoided as value-mapping will have precedence in case its length matches with 'x' & 'y'.  Please use a 2-D array with a single row if you really want to specify the same RGB or RGBA value for all points.\n"
     ]
    },
    {
     "data": {
      "text/plain": [
       "<matplotlib.axes._subplots.AxesSubplot at 0x1e04caef5c0>"
      ]
     },
     "execution_count": 34,
     "metadata": {},
     "output_type": "execute_result"
    },
    {
     "data": {
      "image/png": "[encoded data removed]",
      "text/plain": [
       "<Figure size 432x288 with 1 Axes>"
      ]
     },
     "metadata": {},
     "output_type": "display_data"
    }
   ],
   "source": [
    "\n",
    "city_metrics_rent.plot.scatter(x = 'latest_rent', y = 'num_incidents')"
   ]
  },
  {
   "cell_type": "code",
   "execution_count": 35,
   "metadata": {},
   "outputs": [],
   "source": [
    "#county_data.loc[(county_data['county'] == 'Cook County')]\n",
    "#county_data.sort_values(by='num_incidents')\n",
    "#city_metrics_rent.sort_values(by='num_incidents')"
   ]
  },
  {
   "cell_type": "markdown",
   "metadata": {},
   "source": [
    "#### Below we created a data visualization of our data via a heatmap of the United States using plotly"
   ]
  },
  {
   "cell_type": "code",
   "execution_count": 36,
   "metadata": {},
   "outputs": [
    {
     "name": "stderr",
     "output_type": "stream",
     "text": [
      "C:\\Users\\j2loo\\Anaconda3\\lib\\site-packages\\plotly\\plotly\\plotly.py:248: UserWarning:\n",
      "\n",
      "Woah there! Look at all those points! Due to browser limitations, the Plotly SVG drawing functions have a hard time graphing more than 500k data points for line charts, or 40k points for other types of charts. Here are some suggestions:\n",
      "(1) Use the `plotly.graph_objs.Scattergl` trace object to generate a WebGl graph.\n",
      "(2) Trying using the image API to return an image instead of a graph URL\n",
      "(3) Use matplotlib\n",
      "(4) See if you can create your visualization with fewer data points\n",
      "\n",
      "If the visualization you're using aggregates points (e.g., box plot, histogram, etc.) you can disregard this warning.\n",
      "\n",
      "C:\\Users\\j2loo\\Anaconda3\\lib\\site-packages\\plotly\\plotly\\plotly.py:248: UserWarning:\n",
      "\n",
      "Woah there! Look at all those points! Due to browser limitations, the Plotly SVG drawing functions have a hard time graphing more than 500k data points for line charts, or 40k points for other types of charts. Here are some suggestions:\n",
      "(1) Use the `plotly.graph_objs.Scattergl` trace object to generate a WebGl graph.\n",
      "(2) Trying using the image API to return an image instead of a graph URL\n",
      "(3) Use matplotlib\n",
      "(4) See if you can create your visualization with fewer data points\n",
      "\n",
      "If the visualization you're using aggregates points (e.g., box plot, histogram, etc.) you can disregard this warning.\n",
      "\n"
     ]
    },
    {
     "name": "stdout",
     "output_type": "stream",
     "text": [
      "The draw time for this plot will be slow for clients without much RAM.\n"
     ]
    },
    {
     "name": "stderr",
     "output_type": "stream",
     "text": [
      "C:\\Users\\j2loo\\Anaconda3\\lib\\site-packages\\plotly\\api\\v1\\clientresp.py:40: UserWarning:\n",
      "\n",
      "Estimated Draw Time Slow\n",
      "\n",
      "C:\\Users\\j2loo\\Anaconda3\\lib\\site-packages\\IPython\\core\\display.py:689: UserWarning:\n",
      "\n",
      "Consider using IPython.display.IFrame instead\n",
      "\n"
     ]
    },
    {
     "data": {
      "text/html": [
       "<iframe id=\"igraph\" scrolling=\"no\" style=\"border:none;\" seamless=\"seamless\" src=\"https://plot.ly/~jcloo/6.embed\" height=\"450px\" width=\"900px\"></iframe>"
      ],
      "text/plain": [
       "<plotly.tools.PlotlyDisplay object>"
      ]
     },
     "execution_count": 36,
     "metadata": {},
     "output_type": "execute_result"
    }
   ],
   "source": [
    "colorscale = [\"#f8f9f2\", \"#f4f9e4\", \"#e0f4c3\", \"#bdf2a0\", \"#6ed85b\", \"#53ad3d\", \"#4b8706\",\n",
    "    \"#ffef7d\", \"#f7e861\", \"#f9e603\", \"#eeb753\", \"#f3ac1f\", \"#db913a\", \"#e06338\",\n",
    "    \"#e55217\", \"#d93434\", \"#b50000\"\n",
    "]\n",
    "endpts = list(np.linspace(1, 9000, len(colorscale) - 1))\n",
    "fips = county_data['fips'].tolist()\n",
    "#values = df_sample['Unemployment Rate (%)'].tolist()\n",
    "values = county_data['num_incidents'].tolist()\n",
    "\n",
    "fig = ff.create_choropleth(\n",
    "    fips = fips, values = values, scope = ['usa'],\n",
    "    binning_endpoints = endpts, colorscale = colorscale,\n",
    "    show_state_data = False,\n",
    "    show_hover = True, centroid_marker = {\n",
    "        'opacity': 0\n",
    "    },\n",
    "    asp = 2.9,\n",
    "    title = 'USA Crime Incidents' ,\n",
    "    legend_title = '# of incidents'\n",
    ")\n",
    "py.iplot(fig, filename = 'choropleth_full_usa')\n"
   ]
  },
  {
   "cell_type": "markdown",
   "metadata": {},
   "source": [
    "#### Below we created data visualizaton of our data by creating a bubble map for the number of gun violence incidents, color based on mean income in that region."
   ]
  },
  {
   "cell_type": "code",
   "execution_count": null,
   "metadata": {
    "scrolled": true
   },
   "outputs": [],
   "source": [
    "#Code provided from the Plotly API, https://plot.ly/python/bubble-maps/\n",
    "\n",
    "#what shows up when you click on a bubble\n",
    "city_metrics['text'] = city_metrics['county'] + '<br>Mean Income: $' + (city_metrics['mean_inc']).astype(str) + ''\n",
    "#legend ranges of mean income\n",
    "limits = [(0,10000),(10001,20000),(20001,30000),(30001,60000),(60001,90000),(90001,120000),(120001,180000),(180001,240000),(240001,245000)]\n",
    "#color ranges for legend\n",
    "colors = [\"rgb(181,0,0)\",\"rgb(217,52,52)\",\"rgb(229,82,23)\",\"rgb(224,99,56)\",\"rgb(243,172,31)\",\"rgb(249,230,3)\",\"rgb(255,239,125)\",\"rgb(83,173,61)\", \"rgb(224,244,195)\"]\n",
    "\n",
    "cities = []\n",
    "scale = 20\n",
    "\n",
    "#sets up markers for each range\n",
    "for i in range(len(limits)):\n",
    "    lim = limits[i]\n",
    "    df_sub = city_metrics[lim[0]:lim[1]]\n",
    "    city = go.Scattergeo(\n",
    "        locationmode = 'USA-states',\n",
    "        lon = city_metrics['long'],\n",
    "        lat = city_metrics['lat'],\n",
    "        text = df_sub['text'],\n",
    "        marker = go.scattergeo.Marker(\n",
    "            size = df_sub['num_incidents'] / scale,\n",
    "            color = colors[i],\n",
    "            line = go.scattergeo.marker.Line(\n",
    "                width=0.5, color='rgb(40,40,40)'\n",
    "            ),\n",
    "            sizemode = 'area'\n",
    "        ),\n",
    "        name = '{0} - {1}'.format(lim[0],lim[1]) )\n",
    "    cities.append(city)\n",
    "\n",
    "#sets up layout for the bubble map\n",
    "layout = go.Layout(\n",
    "        title = go.layout.Title(\n",
    "            text = '2013-2018 US Number of Gun Violence Incidents<br>(Click legend of mean incomes to toggle traces)'\n",
    "        ),\n",
    "        showlegend = True,\n",
    "        geo = go.layout.Geo(\n",
    "            scope = 'usa',\n",
    "            projection = go.layout.geo.Projection(\n",
    "                type='albers usa'\n",
    "            ),\n",
    "            showland = True,\n",
    "            landcolor = 'rgb(217, 217, 217)',\n",
    "            subunitwidth=1,\n",
    "            countrywidth=1,\n",
    "            subunitcolor=\"rgb(255, 255, 255)\",\n",
    "            countrycolor=\"rgb(255, 255, 255)\"\n",
    "        )\n",
    "    )\n",
    "\n",
    "#displays bubble map\n",
    "fig = go.Figure(data=cities, layout=layout)\n",
    "py.iplot(fig, filename='d3-bubble-map-populations')"
   ]
  },
  {
   "cell_type": "code",
   "execution_count": null,
   "metadata": {},
   "outputs": [],
   "source": [
    "city_metrics.columns"
   ]
  },
  {
   "cell_type": "markdown",
   "metadata": {},
   "source": [
    "# Correlation Analysis\n",
    "Below we extract numeric data from city metrics and cast the data into integers."
   ]
  },
  {
   "cell_type": "code",
   "execution_count": null,
   "metadata": {},
   "outputs": [],
   "source": [
    "income_vs_incidents = city_metrics[['mean_inc', 'median_inc', 'stdev_inc', 'num_incidents', 'total_killed', 'total_injured']]\n",
    "income_vs_incidents = income_vs_incidents.astype('int64')\n",
    "income_vs_incidents.head()"
   ]
  },
  {
   "cell_type": "code",
   "execution_count": null,
   "metadata": {},
   "outputs": [],
   "source": [
    "#compute correlation matrix\n",
    "income_vs_incidents_corrs = income_vs_incidents.corr()\n",
    "income_vs_incidents_corrs"
   ]
  },
  {
   "cell_type": "code",
   "execution_count": null,
   "metadata": {},
   "outputs": [],
   "source": [
    "city_metrics_rent.columns"
   ]
  },
  {
   "cell_type": "code",
   "execution_count": null,
   "metadata": {},
   "outputs": [],
   "source": [
    "rent_vs_incidents = city_metrics_rent[['latest_rent','num_incidents','total_killed','total_injured']]\n",
    "rent_vs_incidents.head()\n"
   ]
  },
  {
   "cell_type": "code",
   "execution_count": null,
   "metadata": {},
   "outputs": [],
   "source": [
    "rent_vs_incidents_corrs = rent_vs_incidents.corr()\n",
    "rent_vs_incidents_corrs"
   ]
  },
  {
   "cell_type": "markdown",
   "metadata": {},
   "source": [
    "## Data Analysis & Results:\n",
    "We find that there isn’t a correlation between income & rent compared to number of gun violence incidents. This (dis)proves our hypothesis as there is no correlation between income or rent when comparing them to the number of gun violence incidents. However, there is a potential correlation between latest rent to the number of incidents which can give an insight that the lower the rent, the higher the number of incidents occurred as we see more points grouped together in the lower rent level spectrum.\n",
    "\n",
    "## Conclusion and Discussion\n",
    "From the correlation analysis, there is not a significant amount to see a correlation between income & number of incidents. The scatter plots were based off of lower income & rent to the number gun incidents. With the lower income to number gun incidents scatter plot, we see that there is no correlation but with lower rent to the number of gun incidents scatter plot, we see a potential correlation with the lower the rent, the higher the number of incidents occurred. In conclusion, there are a lot of factors to consider when it comes to crime and cannot be based solely off of income."
   ]
  }
 ],
 "metadata": {
  "kernelspec": {
   "display_name": "Python 3",
   "language": "python",
   "name": "python3"
  },
  "language_info": {
   "codemirror_mode": {
    "name": "ipython",
    "version": 3
   },
   "file_extension": ".py",
   "mimetype": "text/x-python",
   "name": "python",
   "nbconvert_exporter": "python",
   "pygments_lexer": "ipython3",
   "version": "3.7.1"
  }
 },
 "nbformat": 4,
 "nbformat_minor": 2
}
